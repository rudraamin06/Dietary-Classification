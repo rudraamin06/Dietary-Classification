{
  "nbformat": 4,
  "nbformat_minor": 0,
  "metadata": {
    "colab": {
      "provenance": []
    },
    "kernelspec": {
      "name": "python3",
      "display_name": "Python 3"
    },
    "language_info": {
      "name": "python"
    }
  },
  "cells": [
    {
      "cell_type": "code",
      "execution_count": null,
      "metadata": {
        "colab": {
          "base_uri": "https://localhost:8080/"
        },
        "id": "tjUp91G7Hgwn",
        "outputId": "6de7bff4-6bf9-487b-b878-8ecab6bb5612"
      },
      "outputs": [
        {
          "output_type": "stream",
          "name": "stdout",
          "text": [
            "Mounted at /content/drive\n"
          ]
        }
      ],
      "source": [
        "from google.colab import drive\n",
        "drive.mount('/content/drive')\n"
      ]
    },
    {
      "cell_type": "code",
      "source": [
        "import pandas as pd\n",
        "\n",
        "# Specify the path to your Google Sheets file\n",
        "file_path = '/content/drive/MyDrive/Veg_Non_veg_Dataset.xlsx'  # Change this path to your file's location\n",
        "\n",
        "# Read the Google Sheets file into a DataFrame\n",
        "df = pd.read_excel(file_path)\n",
        "df= df.dropna()"
      ],
      "metadata": {
        "id": "k_o3k_k2HlNu"
      },
      "execution_count": null,
      "outputs": []
    },
    {
      "cell_type": "code",
      "source": [
        "import pandas as pd\n",
        "\n",
        "# Assuming df is your DataFrame and 'Column_Name' is the column you want to modify\n",
        "column_to_modify = 'Type'\n",
        "\n",
        "# Remove newline characters from the specified column\n",
        "df['Type'] = df['Type'].replace('\\n', 2)\n",
        "# df['Type'] = df['Type'].replace('2 ', 2)\n",
        "\n",
        "# Print the modified DataFrame\n",
        "# print(df)\n"
      ],
      "metadata": {
        "id": "8xPYAD6tkKu6"
      },
      "execution_count": null,
      "outputs": []
    },
    {
      "cell_type": "code",
      "source": [
        "df.head()"
      ],
      "metadata": {
        "colab": {
          "base_uri": "https://localhost:8080/",
          "height": 206
        },
        "id": "zoXGSF0KcwjC",
        "outputId": "fb69ba07-4c7c-4adf-cd8b-f80ae8167065"
      },
      "execution_count": null,
      "outputs": [
        {
          "output_type": "execute_result",
          "data": {
            "text/plain": [
              "                                         ingredients  Type\n",
              "0  romaine lettuce, black olives, grape tomatoes,...     0\n",
              "1  plain flour, ground pepper, salt, tomatoes, gr...     1\n",
              "2  eggs, pepper, salt, mayonaise, cooking oil, gr...     2\n",
              "3                  water, vegetable oil, wheat, salt     0\n",
              "4  black pepper, shallots, cornflour, cayenne pep...     2"
            ],
            "text/html": [
              "\n",
              "  <div id=\"df-b9c0d22d-bcbe-485c-94e3-2390d461be79\" class=\"colab-df-container\">\n",
              "    <div>\n",
              "<style scoped>\n",
              "    .dataframe tbody tr th:only-of-type {\n",
              "        vertical-align: middle;\n",
              "    }\n",
              "\n",
              "    .dataframe tbody tr th {\n",
              "        vertical-align: top;\n",
              "    }\n",
              "\n",
              "    .dataframe thead th {\n",
              "        text-align: right;\n",
              "    }\n",
              "</style>\n",
              "<table border=\"1\" class=\"dataframe\">\n",
              "  <thead>\n",
              "    <tr style=\"text-align: right;\">\n",
              "      <th></th>\n",
              "      <th>ingredients</th>\n",
              "      <th>Type</th>\n",
              "    </tr>\n",
              "  </thead>\n",
              "  <tbody>\n",
              "    <tr>\n",
              "      <th>0</th>\n",
              "      <td>romaine lettuce, black olives, grape tomatoes,...</td>\n",
              "      <td>0</td>\n",
              "    </tr>\n",
              "    <tr>\n",
              "      <th>1</th>\n",
              "      <td>plain flour, ground pepper, salt, tomatoes, gr...</td>\n",
              "      <td>1</td>\n",
              "    </tr>\n",
              "    <tr>\n",
              "      <th>2</th>\n",
              "      <td>eggs, pepper, salt, mayonaise, cooking oil, gr...</td>\n",
              "      <td>2</td>\n",
              "    </tr>\n",
              "    <tr>\n",
              "      <th>3</th>\n",
              "      <td>water, vegetable oil, wheat, salt</td>\n",
              "      <td>0</td>\n",
              "    </tr>\n",
              "    <tr>\n",
              "      <th>4</th>\n",
              "      <td>black pepper, shallots, cornflour, cayenne pep...</td>\n",
              "      <td>2</td>\n",
              "    </tr>\n",
              "  </tbody>\n",
              "</table>\n",
              "</div>\n",
              "    <div class=\"colab-df-buttons\">\n",
              "\n",
              "  <div class=\"colab-df-container\">\n",
              "    <button class=\"colab-df-convert\" onclick=\"convertToInteractive('df-b9c0d22d-bcbe-485c-94e3-2390d461be79')\"\n",
              "            title=\"Convert this dataframe to an interactive table.\"\n",
              "            style=\"display:none;\">\n",
              "\n",
              "  <svg xmlns=\"http://www.w3.org/2000/svg\" height=\"24px\" viewBox=\"0 -960 960 960\">\n",
              "    <path d=\"M120-120v-720h720v720H120Zm60-500h600v-160H180v160Zm220 220h160v-160H400v160Zm0 220h160v-160H400v160ZM180-400h160v-160H180v160Zm440 0h160v-160H620v160ZM180-180h160v-160H180v160Zm440 0h160v-160H620v160Z\"/>\n",
              "  </svg>\n",
              "    </button>\n",
              "\n",
              "  <style>\n",
              "    .colab-df-container {\n",
              "      display:flex;\n",
              "      gap: 12px;\n",
              "    }\n",
              "\n",
              "    .colab-df-convert {\n",
              "      background-color: #E8F0FE;\n",
              "      border: none;\n",
              "      border-radius: 50%;\n",
              "      cursor: pointer;\n",
              "      display: none;\n",
              "      fill: #1967D2;\n",
              "      height: 32px;\n",
              "      padding: 0 0 0 0;\n",
              "      width: 32px;\n",
              "    }\n",
              "\n",
              "    .colab-df-convert:hover {\n",
              "      background-color: #E2EBFA;\n",
              "      box-shadow: 0px 1px 2px rgba(60, 64, 67, 0.3), 0px 1px 3px 1px rgba(60, 64, 67, 0.15);\n",
              "      fill: #174EA6;\n",
              "    }\n",
              "\n",
              "    .colab-df-buttons div {\n",
              "      margin-bottom: 4px;\n",
              "    }\n",
              "\n",
              "    [theme=dark] .colab-df-convert {\n",
              "      background-color: #3B4455;\n",
              "      fill: #D2E3FC;\n",
              "    }\n",
              "\n",
              "    [theme=dark] .colab-df-convert:hover {\n",
              "      background-color: #434B5C;\n",
              "      box-shadow: 0px 1px 3px 1px rgba(0, 0, 0, 0.15);\n",
              "      filter: drop-shadow(0px 1px 2px rgba(0, 0, 0, 0.3));\n",
              "      fill: #FFFFFF;\n",
              "    }\n",
              "  </style>\n",
              "\n",
              "    <script>\n",
              "      const buttonEl =\n",
              "        document.querySelector('#df-b9c0d22d-bcbe-485c-94e3-2390d461be79 button.colab-df-convert');\n",
              "      buttonEl.style.display =\n",
              "        google.colab.kernel.accessAllowed ? 'block' : 'none';\n",
              "\n",
              "      async function convertToInteractive(key) {\n",
              "        const element = document.querySelector('#df-b9c0d22d-bcbe-485c-94e3-2390d461be79');\n",
              "        const dataTable =\n",
              "          await google.colab.kernel.invokeFunction('convertToInteractive',\n",
              "                                                    [key], {});\n",
              "        if (!dataTable) return;\n",
              "\n",
              "        const docLinkHtml = 'Like what you see? Visit the ' +\n",
              "          '<a target=\"_blank\" href=https://colab.research.google.com/notebooks/data_table.ipynb>data table notebook</a>'\n",
              "          + ' to learn more about interactive tables.';\n",
              "        element.innerHTML = '';\n",
              "        dataTable['output_type'] = 'display_data';\n",
              "        await google.colab.output.renderOutput(dataTable, element);\n",
              "        const docLink = document.createElement('div');\n",
              "        docLink.innerHTML = docLinkHtml;\n",
              "        element.appendChild(docLink);\n",
              "      }\n",
              "    </script>\n",
              "  </div>\n",
              "\n",
              "\n",
              "<div id=\"df-e4d90a2e-3101-4aa6-aafa-f364ef93df57\">\n",
              "  <button class=\"colab-df-quickchart\" onclick=\"quickchart('df-e4d90a2e-3101-4aa6-aafa-f364ef93df57')\"\n",
              "            title=\"Suggest charts\"\n",
              "            style=\"display:none;\">\n",
              "\n",
              "<svg xmlns=\"http://www.w3.org/2000/svg\" height=\"24px\"viewBox=\"0 0 24 24\"\n",
              "     width=\"24px\">\n",
              "    <g>\n",
              "        <path d=\"M19 3H5c-1.1 0-2 .9-2 2v14c0 1.1.9 2 2 2h14c1.1 0 2-.9 2-2V5c0-1.1-.9-2-2-2zM9 17H7v-7h2v7zm4 0h-2V7h2v10zm4 0h-2v-4h2v4z\"/>\n",
              "    </g>\n",
              "</svg>\n",
              "  </button>\n",
              "\n",
              "<style>\n",
              "  .colab-df-quickchart {\n",
              "      --bg-color: #E8F0FE;\n",
              "      --fill-color: #1967D2;\n",
              "      --hover-bg-color: #E2EBFA;\n",
              "      --hover-fill-color: #174EA6;\n",
              "      --disabled-fill-color: #AAA;\n",
              "      --disabled-bg-color: #DDD;\n",
              "  }\n",
              "\n",
              "  [theme=dark] .colab-df-quickchart {\n",
              "      --bg-color: #3B4455;\n",
              "      --fill-color: #D2E3FC;\n",
              "      --hover-bg-color: #434B5C;\n",
              "      --hover-fill-color: #FFFFFF;\n",
              "      --disabled-bg-color: #3B4455;\n",
              "      --disabled-fill-color: #666;\n",
              "  }\n",
              "\n",
              "  .colab-df-quickchart {\n",
              "    background-color: var(--bg-color);\n",
              "    border: none;\n",
              "    border-radius: 50%;\n",
              "    cursor: pointer;\n",
              "    display: none;\n",
              "    fill: var(--fill-color);\n",
              "    height: 32px;\n",
              "    padding: 0;\n",
              "    width: 32px;\n",
              "  }\n",
              "\n",
              "  .colab-df-quickchart:hover {\n",
              "    background-color: var(--hover-bg-color);\n",
              "    box-shadow: 0 1px 2px rgba(60, 64, 67, 0.3), 0 1px 3px 1px rgba(60, 64, 67, 0.15);\n",
              "    fill: var(--button-hover-fill-color);\n",
              "  }\n",
              "\n",
              "  .colab-df-quickchart-complete:disabled,\n",
              "  .colab-df-quickchart-complete:disabled:hover {\n",
              "    background-color: var(--disabled-bg-color);\n",
              "    fill: var(--disabled-fill-color);\n",
              "    box-shadow: none;\n",
              "  }\n",
              "\n",
              "  .colab-df-spinner {\n",
              "    border: 2px solid var(--fill-color);\n",
              "    border-color: transparent;\n",
              "    border-bottom-color: var(--fill-color);\n",
              "    animation:\n",
              "      spin 1s steps(1) infinite;\n",
              "  }\n",
              "\n",
              "  @keyframes spin {\n",
              "    0% {\n",
              "      border-color: transparent;\n",
              "      border-bottom-color: var(--fill-color);\n",
              "      border-left-color: var(--fill-color);\n",
              "    }\n",
              "    20% {\n",
              "      border-color: transparent;\n",
              "      border-left-color: var(--fill-color);\n",
              "      border-top-color: var(--fill-color);\n",
              "    }\n",
              "    30% {\n",
              "      border-color: transparent;\n",
              "      border-left-color: var(--fill-color);\n",
              "      border-top-color: var(--fill-color);\n",
              "      border-right-color: var(--fill-color);\n",
              "    }\n",
              "    40% {\n",
              "      border-color: transparent;\n",
              "      border-right-color: var(--fill-color);\n",
              "      border-top-color: var(--fill-color);\n",
              "    }\n",
              "    60% {\n",
              "      border-color: transparent;\n",
              "      border-right-color: var(--fill-color);\n",
              "    }\n",
              "    80% {\n",
              "      border-color: transparent;\n",
              "      border-right-color: var(--fill-color);\n",
              "      border-bottom-color: var(--fill-color);\n",
              "    }\n",
              "    90% {\n",
              "      border-color: transparent;\n",
              "      border-bottom-color: var(--fill-color);\n",
              "    }\n",
              "  }\n",
              "</style>\n",
              "\n",
              "  <script>\n",
              "    async function quickchart(key) {\n",
              "      const quickchartButtonEl =\n",
              "        document.querySelector('#' + key + ' button');\n",
              "      quickchartButtonEl.disabled = true;  // To prevent multiple clicks.\n",
              "      quickchartButtonEl.classList.add('colab-df-spinner');\n",
              "      try {\n",
              "        const charts = await google.colab.kernel.invokeFunction(\n",
              "            'suggestCharts', [key], {});\n",
              "      } catch (error) {\n",
              "        console.error('Error during call to suggestCharts:', error);\n",
              "      }\n",
              "      quickchartButtonEl.classList.remove('colab-df-spinner');\n",
              "      quickchartButtonEl.classList.add('colab-df-quickchart-complete');\n",
              "    }\n",
              "    (() => {\n",
              "      let quickchartButtonEl =\n",
              "        document.querySelector('#df-e4d90a2e-3101-4aa6-aafa-f364ef93df57 button');\n",
              "      quickchartButtonEl.style.display =\n",
              "        google.colab.kernel.accessAllowed ? 'block' : 'none';\n",
              "    })();\n",
              "  </script>\n",
              "</div>\n",
              "    </div>\n",
              "  </div>\n"
            ]
          },
          "metadata": {},
          "execution_count": 4
        }
      ]
    },
    {
      "cell_type": "code",
      "source": [
        "import pandas as pd\n",
        "\n",
        "# Perform one-hot encoding\n",
        "df = pd.get_dummies(df, columns=['Type'])\n"
      ],
      "metadata": {
        "id": "40ZWn6nYan88"
      },
      "execution_count": null,
      "outputs": []
    },
    {
      "cell_type": "code",
      "source": [
        "df.head(40)"
      ],
      "metadata": {
        "colab": {
          "base_uri": "https://localhost:8080/",
          "height": 1000
        },
        "id": "ICBZsL7LIKEr",
        "outputId": "1d7779f8-62ba-4097-df3d-66659eb03ee1"
      },
      "execution_count": null,
      "outputs": [
        {
          "output_type": "execute_result",
          "data": {
            "text/plain": [
              "                                          ingredients  Type_0  Type_1  Type_2\n",
              "0   romaine lettuce, black olives, grape tomatoes,...       1       0       0\n",
              "1   plain flour, ground pepper, salt, tomatoes, gr...       0       1       0\n",
              "2   eggs, pepper, salt, mayonaise, cooking oil, gr...       0       0       1\n",
              "3                   water, vegetable oil, wheat, salt       1       0       0\n",
              "4   black pepper, shallots, cornflour, cayenne pep...       0       0       1\n",
              "5   plain flour, sugar, butter, eggs, fresh ginger...       0       1       0\n",
              "6   olive oil, salt, medium shrimp, pepper, garlic...       0       0       1\n",
              "7   sugar, pistachio nuts, white almond bark, flou...       0       1       0\n",
              "8   olive oil, purple onion, fresh pineapple, pork...       0       0       1\n",
              "9   chopped tomatoes, fresh basil, garlic, extra-v...       1       0       0\n",
              "10  pimentos, sweet pepper, dried oregano, olive o...       0       0       1\n",
              "11  low sodium soy sauce, fresh ginger, dry mustar...       1       0       0\n",
              "12  Italian parsley leaves, walnuts, hot red peppe...       1       0       0\n",
              "13  ground cinnamon, fresh cilantro, chili powder,...       1       0       0\n",
              "14  fresh parmesan cheese, butter, all-purpose flo...       0       0       1\n",
              "15  tumeric, vegetable stock, tomatoes, garam masa...       1       0       0\n",
              "16  greek yogurt, lemon curd, confectioners sugar,...       1       0       0\n",
              "17  italian seasoning, broiler-fryer chicken, mayo...       0       0       1\n",
              "18     sugar, hot chili, asian fish sauce, lime juice       0       0       1\n",
              "19  soy sauce, vegetable oil, red bell pepper, chi...       0       0       1\n",
              "20  pork loin, roasted peanuts, chopped cilantro f...       0       0       1\n",
              "21  roma tomatoes, kosher salt, purple onion, jala...       1       0       0\n",
              "22  low-fat mayonnaise, pepper, salt, baking potat...       0       1       0\n",
              "23  sesame seeds, red pepper, yellow peppers, wate...       1       0       0\n",
              "24  marinara sauce, flat leaf parsley, olive oil, ...       1       0       0\n",
              "25  sugar, lo mein noodles, salt, chicken broth, l...       0       0       1\n",
              "26  herbs, lemon juice, fresh tomatoes, paprika, m...       1       0       0\n",
              "27  ground black pepper, butter, sliced mushrooms,...       0       0       1\n",
              "28  green bell pepper, egg roll wrappers, sweet an...       0       0       1\n",
              "29  flour tortillas, cheese, breakfast sausages, l...       0       0       1\n",
              "30  yellow corn meal, boiling water, butter, fresh...       1       0       0\n",
              "31  chicken broth, chicken breasts, hot sauce, red...       0       0       1\n",
              "32  chili powder, crushed red pepper flakes, garli...       0       1       0\n",
              "33  eggs, shallots, firm tofu, beansprouts, turnip...       0       0       1\n",
              "34  olive oil, onions, crushed garlic, dried orega...       1       0       0\n",
              "35  olive oil, diced tomatoes, Johnsonville Andoui...       0       0       1\n",
              "36  olive oil, bread slices, great northern beans,...       0       0       1\n",
              "37  chicken broth, cooking oil, chinese five-spice...       0       0       1\n",
              "38  green onions, cream cheese, shredded cheddar c...       1       0       0\n",
              "39  collard greens, extra-virgin olive oil, ham ho...       0       0       1"
            ],
            "text/html": [
              "\n",
              "  <div id=\"df-efe91c49-bbd8-43dc-a0f7-9201ef1a4580\" class=\"colab-df-container\">\n",
              "    <div>\n",
              "<style scoped>\n",
              "    .dataframe tbody tr th:only-of-type {\n",
              "        vertical-align: middle;\n",
              "    }\n",
              "\n",
              "    .dataframe tbody tr th {\n",
              "        vertical-align: top;\n",
              "    }\n",
              "\n",
              "    .dataframe thead th {\n",
              "        text-align: right;\n",
              "    }\n",
              "</style>\n",
              "<table border=\"1\" class=\"dataframe\">\n",
              "  <thead>\n",
              "    <tr style=\"text-align: right;\">\n",
              "      <th></th>\n",
              "      <th>ingredients</th>\n",
              "      <th>Type_0</th>\n",
              "      <th>Type_1</th>\n",
              "      <th>Type_2</th>\n",
              "    </tr>\n",
              "  </thead>\n",
              "  <tbody>\n",
              "    <tr>\n",
              "      <th>0</th>\n",
              "      <td>romaine lettuce, black olives, grape tomatoes,...</td>\n",
              "      <td>1</td>\n",
              "      <td>0</td>\n",
              "      <td>0</td>\n",
              "    </tr>\n",
              "    <tr>\n",
              "      <th>1</th>\n",
              "      <td>plain flour, ground pepper, salt, tomatoes, gr...</td>\n",
              "      <td>0</td>\n",
              "      <td>1</td>\n",
              "      <td>0</td>\n",
              "    </tr>\n",
              "    <tr>\n",
              "      <th>2</th>\n",
              "      <td>eggs, pepper, salt, mayonaise, cooking oil, gr...</td>\n",
              "      <td>0</td>\n",
              "      <td>0</td>\n",
              "      <td>1</td>\n",
              "    </tr>\n",
              "    <tr>\n",
              "      <th>3</th>\n",
              "      <td>water, vegetable oil, wheat, salt</td>\n",
              "      <td>1</td>\n",
              "      <td>0</td>\n",
              "      <td>0</td>\n",
              "    </tr>\n",
              "    <tr>\n",
              "      <th>4</th>\n",
              "      <td>black pepper, shallots, cornflour, cayenne pep...</td>\n",
              "      <td>0</td>\n",
              "      <td>0</td>\n",
              "      <td>1</td>\n",
              "    </tr>\n",
              "    <tr>\n",
              "      <th>5</th>\n",
              "      <td>plain flour, sugar, butter, eggs, fresh ginger...</td>\n",
              "      <td>0</td>\n",
              "      <td>1</td>\n",
              "      <td>0</td>\n",
              "    </tr>\n",
              "    <tr>\n",
              "      <th>6</th>\n",
              "      <td>olive oil, salt, medium shrimp, pepper, garlic...</td>\n",
              "      <td>0</td>\n",
              "      <td>0</td>\n",
              "      <td>1</td>\n",
              "    </tr>\n",
              "    <tr>\n",
              "      <th>7</th>\n",
              "      <td>sugar, pistachio nuts, white almond bark, flou...</td>\n",
              "      <td>0</td>\n",
              "      <td>1</td>\n",
              "      <td>0</td>\n",
              "    </tr>\n",
              "    <tr>\n",
              "      <th>8</th>\n",
              "      <td>olive oil, purple onion, fresh pineapple, pork...</td>\n",
              "      <td>0</td>\n",
              "      <td>0</td>\n",
              "      <td>1</td>\n",
              "    </tr>\n",
              "    <tr>\n",
              "      <th>9</th>\n",
              "      <td>chopped tomatoes, fresh basil, garlic, extra-v...</td>\n",
              "      <td>1</td>\n",
              "      <td>0</td>\n",
              "      <td>0</td>\n",
              "    </tr>\n",
              "    <tr>\n",
              "      <th>10</th>\n",
              "      <td>pimentos, sweet pepper, dried oregano, olive o...</td>\n",
              "      <td>0</td>\n",
              "      <td>0</td>\n",
              "      <td>1</td>\n",
              "    </tr>\n",
              "    <tr>\n",
              "      <th>11</th>\n",
              "      <td>low sodium soy sauce, fresh ginger, dry mustar...</td>\n",
              "      <td>1</td>\n",
              "      <td>0</td>\n",
              "      <td>0</td>\n",
              "    </tr>\n",
              "    <tr>\n",
              "      <th>12</th>\n",
              "      <td>Italian parsley leaves, walnuts, hot red peppe...</td>\n",
              "      <td>1</td>\n",
              "      <td>0</td>\n",
              "      <td>0</td>\n",
              "    </tr>\n",
              "    <tr>\n",
              "      <th>13</th>\n",
              "      <td>ground cinnamon, fresh cilantro, chili powder,...</td>\n",
              "      <td>1</td>\n",
              "      <td>0</td>\n",
              "      <td>0</td>\n",
              "    </tr>\n",
              "    <tr>\n",
              "      <th>14</th>\n",
              "      <td>fresh parmesan cheese, butter, all-purpose flo...</td>\n",
              "      <td>0</td>\n",
              "      <td>0</td>\n",
              "      <td>1</td>\n",
              "    </tr>\n",
              "    <tr>\n",
              "      <th>15</th>\n",
              "      <td>tumeric, vegetable stock, tomatoes, garam masa...</td>\n",
              "      <td>1</td>\n",
              "      <td>0</td>\n",
              "      <td>0</td>\n",
              "    </tr>\n",
              "    <tr>\n",
              "      <th>16</th>\n",
              "      <td>greek yogurt, lemon curd, confectioners sugar,...</td>\n",
              "      <td>1</td>\n",
              "      <td>0</td>\n",
              "      <td>0</td>\n",
              "    </tr>\n",
              "    <tr>\n",
              "      <th>17</th>\n",
              "      <td>italian seasoning, broiler-fryer chicken, mayo...</td>\n",
              "      <td>0</td>\n",
              "      <td>0</td>\n",
              "      <td>1</td>\n",
              "    </tr>\n",
              "    <tr>\n",
              "      <th>18</th>\n",
              "      <td>sugar, hot chili, asian fish sauce, lime juice</td>\n",
              "      <td>0</td>\n",
              "      <td>0</td>\n",
              "      <td>1</td>\n",
              "    </tr>\n",
              "    <tr>\n",
              "      <th>19</th>\n",
              "      <td>soy sauce, vegetable oil, red bell pepper, chi...</td>\n",
              "      <td>0</td>\n",
              "      <td>0</td>\n",
              "      <td>1</td>\n",
              "    </tr>\n",
              "    <tr>\n",
              "      <th>20</th>\n",
              "      <td>pork loin, roasted peanuts, chopped cilantro f...</td>\n",
              "      <td>0</td>\n",
              "      <td>0</td>\n",
              "      <td>1</td>\n",
              "    </tr>\n",
              "    <tr>\n",
              "      <th>21</th>\n",
              "      <td>roma tomatoes, kosher salt, purple onion, jala...</td>\n",
              "      <td>1</td>\n",
              "      <td>0</td>\n",
              "      <td>0</td>\n",
              "    </tr>\n",
              "    <tr>\n",
              "      <th>22</th>\n",
              "      <td>low-fat mayonnaise, pepper, salt, baking potat...</td>\n",
              "      <td>0</td>\n",
              "      <td>1</td>\n",
              "      <td>0</td>\n",
              "    </tr>\n",
              "    <tr>\n",
              "      <th>23</th>\n",
              "      <td>sesame seeds, red pepper, yellow peppers, wate...</td>\n",
              "      <td>1</td>\n",
              "      <td>0</td>\n",
              "      <td>0</td>\n",
              "    </tr>\n",
              "    <tr>\n",
              "      <th>24</th>\n",
              "      <td>marinara sauce, flat leaf parsley, olive oil, ...</td>\n",
              "      <td>1</td>\n",
              "      <td>0</td>\n",
              "      <td>0</td>\n",
              "    </tr>\n",
              "    <tr>\n",
              "      <th>25</th>\n",
              "      <td>sugar, lo mein noodles, salt, chicken broth, l...</td>\n",
              "      <td>0</td>\n",
              "      <td>0</td>\n",
              "      <td>1</td>\n",
              "    </tr>\n",
              "    <tr>\n",
              "      <th>26</th>\n",
              "      <td>herbs, lemon juice, fresh tomatoes, paprika, m...</td>\n",
              "      <td>1</td>\n",
              "      <td>0</td>\n",
              "      <td>0</td>\n",
              "    </tr>\n",
              "    <tr>\n",
              "      <th>27</th>\n",
              "      <td>ground black pepper, butter, sliced mushrooms,...</td>\n",
              "      <td>0</td>\n",
              "      <td>0</td>\n",
              "      <td>1</td>\n",
              "    </tr>\n",
              "    <tr>\n",
              "      <th>28</th>\n",
              "      <td>green bell pepper, egg roll wrappers, sweet an...</td>\n",
              "      <td>0</td>\n",
              "      <td>0</td>\n",
              "      <td>1</td>\n",
              "    </tr>\n",
              "    <tr>\n",
              "      <th>29</th>\n",
              "      <td>flour tortillas, cheese, breakfast sausages, l...</td>\n",
              "      <td>0</td>\n",
              "      <td>0</td>\n",
              "      <td>1</td>\n",
              "    </tr>\n",
              "    <tr>\n",
              "      <th>30</th>\n",
              "      <td>yellow corn meal, boiling water, butter, fresh...</td>\n",
              "      <td>1</td>\n",
              "      <td>0</td>\n",
              "      <td>0</td>\n",
              "    </tr>\n",
              "    <tr>\n",
              "      <th>31</th>\n",
              "      <td>chicken broth, chicken breasts, hot sauce, red...</td>\n",
              "      <td>0</td>\n",
              "      <td>0</td>\n",
              "      <td>1</td>\n",
              "    </tr>\n",
              "    <tr>\n",
              "      <th>32</th>\n",
              "      <td>chili powder, crushed red pepper flakes, garli...</td>\n",
              "      <td>0</td>\n",
              "      <td>1</td>\n",
              "      <td>0</td>\n",
              "    </tr>\n",
              "    <tr>\n",
              "      <th>33</th>\n",
              "      <td>eggs, shallots, firm tofu, beansprouts, turnip...</td>\n",
              "      <td>0</td>\n",
              "      <td>0</td>\n",
              "      <td>1</td>\n",
              "    </tr>\n",
              "    <tr>\n",
              "      <th>34</th>\n",
              "      <td>olive oil, onions, crushed garlic, dried orega...</td>\n",
              "      <td>1</td>\n",
              "      <td>0</td>\n",
              "      <td>0</td>\n",
              "    </tr>\n",
              "    <tr>\n",
              "      <th>35</th>\n",
              "      <td>olive oil, diced tomatoes, Johnsonville Andoui...</td>\n",
              "      <td>0</td>\n",
              "      <td>0</td>\n",
              "      <td>1</td>\n",
              "    </tr>\n",
              "    <tr>\n",
              "      <th>36</th>\n",
              "      <td>olive oil, bread slices, great northern beans,...</td>\n",
              "      <td>0</td>\n",
              "      <td>0</td>\n",
              "      <td>1</td>\n",
              "    </tr>\n",
              "    <tr>\n",
              "      <th>37</th>\n",
              "      <td>chicken broth, cooking oil, chinese five-spice...</td>\n",
              "      <td>0</td>\n",
              "      <td>0</td>\n",
              "      <td>1</td>\n",
              "    </tr>\n",
              "    <tr>\n",
              "      <th>38</th>\n",
              "      <td>green onions, cream cheese, shredded cheddar c...</td>\n",
              "      <td>1</td>\n",
              "      <td>0</td>\n",
              "      <td>0</td>\n",
              "    </tr>\n",
              "    <tr>\n",
              "      <th>39</th>\n",
              "      <td>collard greens, extra-virgin olive oil, ham ho...</td>\n",
              "      <td>0</td>\n",
              "      <td>0</td>\n",
              "      <td>1</td>\n",
              "    </tr>\n",
              "  </tbody>\n",
              "</table>\n",
              "</div>\n",
              "    <div class=\"colab-df-buttons\">\n",
              "\n",
              "  <div class=\"colab-df-container\">\n",
              "    <button class=\"colab-df-convert\" onclick=\"convertToInteractive('df-efe91c49-bbd8-43dc-a0f7-9201ef1a4580')\"\n",
              "            title=\"Convert this dataframe to an interactive table.\"\n",
              "            style=\"display:none;\">\n",
              "\n",
              "  <svg xmlns=\"http://www.w3.org/2000/svg\" height=\"24px\" viewBox=\"0 -960 960 960\">\n",
              "    <path d=\"M120-120v-720h720v720H120Zm60-500h600v-160H180v160Zm220 220h160v-160H400v160Zm0 220h160v-160H400v160ZM180-400h160v-160H180v160Zm440 0h160v-160H620v160ZM180-180h160v-160H180v160Zm440 0h160v-160H620v160Z\"/>\n",
              "  </svg>\n",
              "    </button>\n",
              "\n",
              "  <style>\n",
              "    .colab-df-container {\n",
              "      display:flex;\n",
              "      gap: 12px;\n",
              "    }\n",
              "\n",
              "    .colab-df-convert {\n",
              "      background-color: #E8F0FE;\n",
              "      border: none;\n",
              "      border-radius: 50%;\n",
              "      cursor: pointer;\n",
              "      display: none;\n",
              "      fill: #1967D2;\n",
              "      height: 32px;\n",
              "      padding: 0 0 0 0;\n",
              "      width: 32px;\n",
              "    }\n",
              "\n",
              "    .colab-df-convert:hover {\n",
              "      background-color: #E2EBFA;\n",
              "      box-shadow: 0px 1px 2px rgba(60, 64, 67, 0.3), 0px 1px 3px 1px rgba(60, 64, 67, 0.15);\n",
              "      fill: #174EA6;\n",
              "    }\n",
              "\n",
              "    .colab-df-buttons div {\n",
              "      margin-bottom: 4px;\n",
              "    }\n",
              "\n",
              "    [theme=dark] .colab-df-convert {\n",
              "      background-color: #3B4455;\n",
              "      fill: #D2E3FC;\n",
              "    }\n",
              "\n",
              "    [theme=dark] .colab-df-convert:hover {\n",
              "      background-color: #434B5C;\n",
              "      box-shadow: 0px 1px 3px 1px rgba(0, 0, 0, 0.15);\n",
              "      filter: drop-shadow(0px 1px 2px rgba(0, 0, 0, 0.3));\n",
              "      fill: #FFFFFF;\n",
              "    }\n",
              "  </style>\n",
              "\n",
              "    <script>\n",
              "      const buttonEl =\n",
              "        document.querySelector('#df-efe91c49-bbd8-43dc-a0f7-9201ef1a4580 button.colab-df-convert');\n",
              "      buttonEl.style.display =\n",
              "        google.colab.kernel.accessAllowed ? 'block' : 'none';\n",
              "\n",
              "      async function convertToInteractive(key) {\n",
              "        const element = document.querySelector('#df-efe91c49-bbd8-43dc-a0f7-9201ef1a4580');\n",
              "        const dataTable =\n",
              "          await google.colab.kernel.invokeFunction('convertToInteractive',\n",
              "                                                    [key], {});\n",
              "        if (!dataTable) return;\n",
              "\n",
              "        const docLinkHtml = 'Like what you see? Visit the ' +\n",
              "          '<a target=\"_blank\" href=https://colab.research.google.com/notebooks/data_table.ipynb>data table notebook</a>'\n",
              "          + ' to learn more about interactive tables.';\n",
              "        element.innerHTML = '';\n",
              "        dataTable['output_type'] = 'display_data';\n",
              "        await google.colab.output.renderOutput(dataTable, element);\n",
              "        const docLink = document.createElement('div');\n",
              "        docLink.innerHTML = docLinkHtml;\n",
              "        element.appendChild(docLink);\n",
              "      }\n",
              "    </script>\n",
              "  </div>\n",
              "\n",
              "\n",
              "<div id=\"df-fd671cd6-2803-4969-8255-d98f104938e1\">\n",
              "  <button class=\"colab-df-quickchart\" onclick=\"quickchart('df-fd671cd6-2803-4969-8255-d98f104938e1')\"\n",
              "            title=\"Suggest charts\"\n",
              "            style=\"display:none;\">\n",
              "\n",
              "<svg xmlns=\"http://www.w3.org/2000/svg\" height=\"24px\"viewBox=\"0 0 24 24\"\n",
              "     width=\"24px\">\n",
              "    <g>\n",
              "        <path d=\"M19 3H5c-1.1 0-2 .9-2 2v14c0 1.1.9 2 2 2h14c1.1 0 2-.9 2-2V5c0-1.1-.9-2-2-2zM9 17H7v-7h2v7zm4 0h-2V7h2v10zm4 0h-2v-4h2v4z\"/>\n",
              "    </g>\n",
              "</svg>\n",
              "  </button>\n",
              "\n",
              "<style>\n",
              "  .colab-df-quickchart {\n",
              "      --bg-color: #E8F0FE;\n",
              "      --fill-color: #1967D2;\n",
              "      --hover-bg-color: #E2EBFA;\n",
              "      --hover-fill-color: #174EA6;\n",
              "      --disabled-fill-color: #AAA;\n",
              "      --disabled-bg-color: #DDD;\n",
              "  }\n",
              "\n",
              "  [theme=dark] .colab-df-quickchart {\n",
              "      --bg-color: #3B4455;\n",
              "      --fill-color: #D2E3FC;\n",
              "      --hover-bg-color: #434B5C;\n",
              "      --hover-fill-color: #FFFFFF;\n",
              "      --disabled-bg-color: #3B4455;\n",
              "      --disabled-fill-color: #666;\n",
              "  }\n",
              "\n",
              "  .colab-df-quickchart {\n",
              "    background-color: var(--bg-color);\n",
              "    border: none;\n",
              "    border-radius: 50%;\n",
              "    cursor: pointer;\n",
              "    display: none;\n",
              "    fill: var(--fill-color);\n",
              "    height: 32px;\n",
              "    padding: 0;\n",
              "    width: 32px;\n",
              "  }\n",
              "\n",
              "  .colab-df-quickchart:hover {\n",
              "    background-color: var(--hover-bg-color);\n",
              "    box-shadow: 0 1px 2px rgba(60, 64, 67, 0.3), 0 1px 3px 1px rgba(60, 64, 67, 0.15);\n",
              "    fill: var(--button-hover-fill-color);\n",
              "  }\n",
              "\n",
              "  .colab-df-quickchart-complete:disabled,\n",
              "  .colab-df-quickchart-complete:disabled:hover {\n",
              "    background-color: var(--disabled-bg-color);\n",
              "    fill: var(--disabled-fill-color);\n",
              "    box-shadow: none;\n",
              "  }\n",
              "\n",
              "  .colab-df-spinner {\n",
              "    border: 2px solid var(--fill-color);\n",
              "    border-color: transparent;\n",
              "    border-bottom-color: var(--fill-color);\n",
              "    animation:\n",
              "      spin 1s steps(1) infinite;\n",
              "  }\n",
              "\n",
              "  @keyframes spin {\n",
              "    0% {\n",
              "      border-color: transparent;\n",
              "      border-bottom-color: var(--fill-color);\n",
              "      border-left-color: var(--fill-color);\n",
              "    }\n",
              "    20% {\n",
              "      border-color: transparent;\n",
              "      border-left-color: var(--fill-color);\n",
              "      border-top-color: var(--fill-color);\n",
              "    }\n",
              "    30% {\n",
              "      border-color: transparent;\n",
              "      border-left-color: var(--fill-color);\n",
              "      border-top-color: var(--fill-color);\n",
              "      border-right-color: var(--fill-color);\n",
              "    }\n",
              "    40% {\n",
              "      border-color: transparent;\n",
              "      border-right-color: var(--fill-color);\n",
              "      border-top-color: var(--fill-color);\n",
              "    }\n",
              "    60% {\n",
              "      border-color: transparent;\n",
              "      border-right-color: var(--fill-color);\n",
              "    }\n",
              "    80% {\n",
              "      border-color: transparent;\n",
              "      border-right-color: var(--fill-color);\n",
              "      border-bottom-color: var(--fill-color);\n",
              "    }\n",
              "    90% {\n",
              "      border-color: transparent;\n",
              "      border-bottom-color: var(--fill-color);\n",
              "    }\n",
              "  }\n",
              "</style>\n",
              "\n",
              "  <script>\n",
              "    async function quickchart(key) {\n",
              "      const quickchartButtonEl =\n",
              "        document.querySelector('#' + key + ' button');\n",
              "      quickchartButtonEl.disabled = true;  // To prevent multiple clicks.\n",
              "      quickchartButtonEl.classList.add('colab-df-spinner');\n",
              "      try {\n",
              "        const charts = await google.colab.kernel.invokeFunction(\n",
              "            'suggestCharts', [key], {});\n",
              "      } catch (error) {\n",
              "        console.error('Error during call to suggestCharts:', error);\n",
              "      }\n",
              "      quickchartButtonEl.classList.remove('colab-df-spinner');\n",
              "      quickchartButtonEl.classList.add('colab-df-quickchart-complete');\n",
              "    }\n",
              "    (() => {\n",
              "      let quickchartButtonEl =\n",
              "        document.querySelector('#df-fd671cd6-2803-4969-8255-d98f104938e1 button');\n",
              "      quickchartButtonEl.style.display =\n",
              "        google.colab.kernel.accessAllowed ? 'block' : 'none';\n",
              "    })();\n",
              "  </script>\n",
              "</div>\n",
              "    </div>\n",
              "  </div>\n"
            ]
          },
          "metadata": {},
          "execution_count": 6
        }
      ]
    },
    {
      "cell_type": "code",
      "source": [
        "df[\"ingredients\"][10]"
      ],
      "metadata": {
        "colab": {
          "base_uri": "https://localhost:8080/",
          "height": 53
        },
        "id": "SkHaeviiIkcp",
        "outputId": "6043dc01-7511-4fa8-bc85-1b406b9cf8a0"
      },
      "execution_count": null,
      "outputs": [
        {
          "output_type": "execute_result",
          "data": {
            "text/plain": [
              "'pimentos, sweet pepper, dried oregano, olive oil, garlic, sharp cheddar cheese, pepper, swiss cheese, provolone cheese, canola oil, mushrooms, black olives, sausages'"
            ],
            "application/vnd.google.colaboratory.intrinsic+json": {
              "type": "string"
            }
          },
          "metadata": {},
          "execution_count": 7
        }
      ]
    },
    {
      "cell_type": "code",
      "source": [
        "df = df.sample(frac=1,random_state=42)\n",
        "df.head()"
      ],
      "metadata": {
        "colab": {
          "base_uri": "https://localhost:8080/",
          "height": 206
        },
        "id": "iMbK7hT9Ozp2",
        "outputId": "25b5424d-2916-4ed2-f2b3-b62bc896a4b5"
      },
      "execution_count": null,
      "outputs": [
        {
          "output_type": "execute_result",
          "data": {
            "text/plain": [
              "                                            ingredients  Type_0  Type_1  \\\n",
              "4117  ALMOND MILK (WATER, ALMONDS, CUCUMBERS, RICE S...       1       0   \n",
              "7681  GARBANZO BEANS, SESAME SEEDS, BLENDED OLIVE/CA...       1       0   \n",
              "2191  INGREDIENTS: CHICKEN BREAST WITH RIB MEAT, WAT...       0       0   \n",
              "3357                              ORGANIC TOMATO PASTE.       1       0   \n",
              "6099  ORGANIC POTATOES, ORGANIC SAFFLOWER AND/OR SUN...       1       0   \n",
              "\n",
              "      Type_2  \n",
              "4117       0  \n",
              "7681       0  \n",
              "2191       1  \n",
              "3357       0  \n",
              "6099       0  "
            ],
            "text/html": [
              "\n",
              "  <div id=\"df-f462ec5e-1983-42b4-99d7-e80d94a6e8a3\" class=\"colab-df-container\">\n",
              "    <div>\n",
              "<style scoped>\n",
              "    .dataframe tbody tr th:only-of-type {\n",
              "        vertical-align: middle;\n",
              "    }\n",
              "\n",
              "    .dataframe tbody tr th {\n",
              "        vertical-align: top;\n",
              "    }\n",
              "\n",
              "    .dataframe thead th {\n",
              "        text-align: right;\n",
              "    }\n",
              "</style>\n",
              "<table border=\"1\" class=\"dataframe\">\n",
              "  <thead>\n",
              "    <tr style=\"text-align: right;\">\n",
              "      <th></th>\n",
              "      <th>ingredients</th>\n",
              "      <th>Type_0</th>\n",
              "      <th>Type_1</th>\n",
              "      <th>Type_2</th>\n",
              "    </tr>\n",
              "  </thead>\n",
              "  <tbody>\n",
              "    <tr>\n",
              "      <th>4117</th>\n",
              "      <td>ALMOND MILK (WATER, ALMONDS, CUCUMBERS, RICE S...</td>\n",
              "      <td>1</td>\n",
              "      <td>0</td>\n",
              "      <td>0</td>\n",
              "    </tr>\n",
              "    <tr>\n",
              "      <th>7681</th>\n",
              "      <td>GARBANZO BEANS, SESAME SEEDS, BLENDED OLIVE/CA...</td>\n",
              "      <td>1</td>\n",
              "      <td>0</td>\n",
              "      <td>0</td>\n",
              "    </tr>\n",
              "    <tr>\n",
              "      <th>2191</th>\n",
              "      <td>INGREDIENTS: CHICKEN BREAST WITH RIB MEAT, WAT...</td>\n",
              "      <td>0</td>\n",
              "      <td>0</td>\n",
              "      <td>1</td>\n",
              "    </tr>\n",
              "    <tr>\n",
              "      <th>3357</th>\n",
              "      <td>ORGANIC TOMATO PASTE.</td>\n",
              "      <td>1</td>\n",
              "      <td>0</td>\n",
              "      <td>0</td>\n",
              "    </tr>\n",
              "    <tr>\n",
              "      <th>6099</th>\n",
              "      <td>ORGANIC POTATOES, ORGANIC SAFFLOWER AND/OR SUN...</td>\n",
              "      <td>1</td>\n",
              "      <td>0</td>\n",
              "      <td>0</td>\n",
              "    </tr>\n",
              "  </tbody>\n",
              "</table>\n",
              "</div>\n",
              "    <div class=\"colab-df-buttons\">\n",
              "\n",
              "  <div class=\"colab-df-container\">\n",
              "    <button class=\"colab-df-convert\" onclick=\"convertToInteractive('df-f462ec5e-1983-42b4-99d7-e80d94a6e8a3')\"\n",
              "            title=\"Convert this dataframe to an interactive table.\"\n",
              "            style=\"display:none;\">\n",
              "\n",
              "  <svg xmlns=\"http://www.w3.org/2000/svg\" height=\"24px\" viewBox=\"0 -960 960 960\">\n",
              "    <path d=\"M120-120v-720h720v720H120Zm60-500h600v-160H180v160Zm220 220h160v-160H400v160Zm0 220h160v-160H400v160ZM180-400h160v-160H180v160Zm440 0h160v-160H620v160ZM180-180h160v-160H180v160Zm440 0h160v-160H620v160Z\"/>\n",
              "  </svg>\n",
              "    </button>\n",
              "\n",
              "  <style>\n",
              "    .colab-df-container {\n",
              "      display:flex;\n",
              "      gap: 12px;\n",
              "    }\n",
              "\n",
              "    .colab-df-convert {\n",
              "      background-color: #E8F0FE;\n",
              "      border: none;\n",
              "      border-radius: 50%;\n",
              "      cursor: pointer;\n",
              "      display: none;\n",
              "      fill: #1967D2;\n",
              "      height: 32px;\n",
              "      padding: 0 0 0 0;\n",
              "      width: 32px;\n",
              "    }\n",
              "\n",
              "    .colab-df-convert:hover {\n",
              "      background-color: #E2EBFA;\n",
              "      box-shadow: 0px 1px 2px rgba(60, 64, 67, 0.3), 0px 1px 3px 1px rgba(60, 64, 67, 0.15);\n",
              "      fill: #174EA6;\n",
              "    }\n",
              "\n",
              "    .colab-df-buttons div {\n",
              "      margin-bottom: 4px;\n",
              "    }\n",
              "\n",
              "    [theme=dark] .colab-df-convert {\n",
              "      background-color: #3B4455;\n",
              "      fill: #D2E3FC;\n",
              "    }\n",
              "\n",
              "    [theme=dark] .colab-df-convert:hover {\n",
              "      background-color: #434B5C;\n",
              "      box-shadow: 0px 1px 3px 1px rgba(0, 0, 0, 0.15);\n",
              "      filter: drop-shadow(0px 1px 2px rgba(0, 0, 0, 0.3));\n",
              "      fill: #FFFFFF;\n",
              "    }\n",
              "  </style>\n",
              "\n",
              "    <script>\n",
              "      const buttonEl =\n",
              "        document.querySelector('#df-f462ec5e-1983-42b4-99d7-e80d94a6e8a3 button.colab-df-convert');\n",
              "      buttonEl.style.display =\n",
              "        google.colab.kernel.accessAllowed ? 'block' : 'none';\n",
              "\n",
              "      async function convertToInteractive(key) {\n",
              "        const element = document.querySelector('#df-f462ec5e-1983-42b4-99d7-e80d94a6e8a3');\n",
              "        const dataTable =\n",
              "          await google.colab.kernel.invokeFunction('convertToInteractive',\n",
              "                                                    [key], {});\n",
              "        if (!dataTable) return;\n",
              "\n",
              "        const docLinkHtml = 'Like what you see? Visit the ' +\n",
              "          '<a target=\"_blank\" href=https://colab.research.google.com/notebooks/data_table.ipynb>data table notebook</a>'\n",
              "          + ' to learn more about interactive tables.';\n",
              "        element.innerHTML = '';\n",
              "        dataTable['output_type'] = 'display_data';\n",
              "        await google.colab.output.renderOutput(dataTable, element);\n",
              "        const docLink = document.createElement('div');\n",
              "        docLink.innerHTML = docLinkHtml;\n",
              "        element.appendChild(docLink);\n",
              "      }\n",
              "    </script>\n",
              "  </div>\n",
              "\n",
              "\n",
              "<div id=\"df-5b1fbae4-87ae-4695-964c-e38cf28c1e1f\">\n",
              "  <button class=\"colab-df-quickchart\" onclick=\"quickchart('df-5b1fbae4-87ae-4695-964c-e38cf28c1e1f')\"\n",
              "            title=\"Suggest charts\"\n",
              "            style=\"display:none;\">\n",
              "\n",
              "<svg xmlns=\"http://www.w3.org/2000/svg\" height=\"24px\"viewBox=\"0 0 24 24\"\n",
              "     width=\"24px\">\n",
              "    <g>\n",
              "        <path d=\"M19 3H5c-1.1 0-2 .9-2 2v14c0 1.1.9 2 2 2h14c1.1 0 2-.9 2-2V5c0-1.1-.9-2-2-2zM9 17H7v-7h2v7zm4 0h-2V7h2v10zm4 0h-2v-4h2v4z\"/>\n",
              "    </g>\n",
              "</svg>\n",
              "  </button>\n",
              "\n",
              "<style>\n",
              "  .colab-df-quickchart {\n",
              "      --bg-color: #E8F0FE;\n",
              "      --fill-color: #1967D2;\n",
              "      --hover-bg-color: #E2EBFA;\n",
              "      --hover-fill-color: #174EA6;\n",
              "      --disabled-fill-color: #AAA;\n",
              "      --disabled-bg-color: #DDD;\n",
              "  }\n",
              "\n",
              "  [theme=dark] .colab-df-quickchart {\n",
              "      --bg-color: #3B4455;\n",
              "      --fill-color: #D2E3FC;\n",
              "      --hover-bg-color: #434B5C;\n",
              "      --hover-fill-color: #FFFFFF;\n",
              "      --disabled-bg-color: #3B4455;\n",
              "      --disabled-fill-color: #666;\n",
              "  }\n",
              "\n",
              "  .colab-df-quickchart {\n",
              "    background-color: var(--bg-color);\n",
              "    border: none;\n",
              "    border-radius: 50%;\n",
              "    cursor: pointer;\n",
              "    display: none;\n",
              "    fill: var(--fill-color);\n",
              "    height: 32px;\n",
              "    padding: 0;\n",
              "    width: 32px;\n",
              "  }\n",
              "\n",
              "  .colab-df-quickchart:hover {\n",
              "    background-color: var(--hover-bg-color);\n",
              "    box-shadow: 0 1px 2px rgba(60, 64, 67, 0.3), 0 1px 3px 1px rgba(60, 64, 67, 0.15);\n",
              "    fill: var(--button-hover-fill-color);\n",
              "  }\n",
              "\n",
              "  .colab-df-quickchart-complete:disabled,\n",
              "  .colab-df-quickchart-complete:disabled:hover {\n",
              "    background-color: var(--disabled-bg-color);\n",
              "    fill: var(--disabled-fill-color);\n",
              "    box-shadow: none;\n",
              "  }\n",
              "\n",
              "  .colab-df-spinner {\n",
              "    border: 2px solid var(--fill-color);\n",
              "    border-color: transparent;\n",
              "    border-bottom-color: var(--fill-color);\n",
              "    animation:\n",
              "      spin 1s steps(1) infinite;\n",
              "  }\n",
              "\n",
              "  @keyframes spin {\n",
              "    0% {\n",
              "      border-color: transparent;\n",
              "      border-bottom-color: var(--fill-color);\n",
              "      border-left-color: var(--fill-color);\n",
              "    }\n",
              "    20% {\n",
              "      border-color: transparent;\n",
              "      border-left-color: var(--fill-color);\n",
              "      border-top-color: var(--fill-color);\n",
              "    }\n",
              "    30% {\n",
              "      border-color: transparent;\n",
              "      border-left-color: var(--fill-color);\n",
              "      border-top-color: var(--fill-color);\n",
              "      border-right-color: var(--fill-color);\n",
              "    }\n",
              "    40% {\n",
              "      border-color: transparent;\n",
              "      border-right-color: var(--fill-color);\n",
              "      border-top-color: var(--fill-color);\n",
              "    }\n",
              "    60% {\n",
              "      border-color: transparent;\n",
              "      border-right-color: var(--fill-color);\n",
              "    }\n",
              "    80% {\n",
              "      border-color: transparent;\n",
              "      border-right-color: var(--fill-color);\n",
              "      border-bottom-color: var(--fill-color);\n",
              "    }\n",
              "    90% {\n",
              "      border-color: transparent;\n",
              "      border-bottom-color: var(--fill-color);\n",
              "    }\n",
              "  }\n",
              "</style>\n",
              "\n",
              "  <script>\n",
              "    async function quickchart(key) {\n",
              "      const quickchartButtonEl =\n",
              "        document.querySelector('#' + key + ' button');\n",
              "      quickchartButtonEl.disabled = true;  // To prevent multiple clicks.\n",
              "      quickchartButtonEl.classList.add('colab-df-spinner');\n",
              "      try {\n",
              "        const charts = await google.colab.kernel.invokeFunction(\n",
              "            'suggestCharts', [key], {});\n",
              "      } catch (error) {\n",
              "        console.error('Error during call to suggestCharts:', error);\n",
              "      }\n",
              "      quickchartButtonEl.classList.remove('colab-df-spinner');\n",
              "      quickchartButtonEl.classList.add('colab-df-quickchart-complete');\n",
              "    }\n",
              "    (() => {\n",
              "      let quickchartButtonEl =\n",
              "        document.querySelector('#df-5b1fbae4-87ae-4695-964c-e38cf28c1e1f button');\n",
              "      quickchartButtonEl.style.display =\n",
              "        google.colab.kernel.accessAllowed ? 'block' : 'none';\n",
              "    })();\n",
              "  </script>\n",
              "</div>\n",
              "    </div>\n",
              "  </div>\n"
            ]
          },
          "metadata": {},
          "execution_count": 8
        }
      ]
    },
    {
      "cell_type": "code",
      "source": [
        "import pandas as pd\n",
        "from sklearn.model_selection import train_test_split\n",
        "\n",
        "X = df['ingredients']\n",
        "y = df.drop('ingredients', axis=1).values\n",
        "\n",
        "X_train, X_test, y_train, y_test = train_test_split(X, y, test_size=0.2, random_state=42)\n",
        "\n",
        "len(X_train),len(y_train),len(X_test),len(y_test)"
      ],
      "metadata": {
        "colab": {
          "base_uri": "https://localhost:8080/"
        },
        "id": "AH_aBj3_Nv8Q",
        "outputId": "02ac8348-42aa-4ff4-e3f0-e0ad83c07597"
      },
      "execution_count": null,
      "outputs": [
        {
          "output_type": "execute_result",
          "data": {
            "text/plain": [
              "(7968, 7968, 1992, 1992)"
            ]
          },
          "metadata": {},
          "execution_count": 9
        }
      ]
    },
    {
      "cell_type": "code",
      "source": [
        "import tensorflow as tf"
      ],
      "metadata": {
        "id": "yQTI8hToNmh4"
      },
      "execution_count": null,
      "outputs": []
    },
    {
      "cell_type": "code",
      "source": [
        "from tensorflow.keras.layers.experimental.preprocessing import TextVectorization"
      ],
      "metadata": {
        "id": "wsSBXZmGOt1h"
      },
      "execution_count": null,
      "outputs": []
    },
    {
      "cell_type": "code",
      "source": [
        "max_vocab_length = 10000\n",
        "max_length = 30\n",
        "text_vectorizer = TextVectorization(max_tokens = max_vocab_length,\n",
        "                                    output_mode = \"int\",\n",
        "                                    output_sequence_length = max_length)"
      ],
      "metadata": {
        "id": "oN16Sr64PBOX"
      },
      "execution_count": null,
      "outputs": []
    },
    {
      "cell_type": "code",
      "source": [
        "text_vectorizer.adapt(X_train)"
      ],
      "metadata": {
        "id": "y4neWPm7PEN8"
      },
      "execution_count": null,
      "outputs": []
    },
    {
      "cell_type": "code",
      "source": [
        "sample_sentence = \"coco pasta beef shrimp chicken masala\"\n",
        "text_vectorizer([sample_sentence])"
      ],
      "metadata": {
        "colab": {
          "base_uri": "https://localhost:8080/"
        },
        "id": "Vv6l3DM1Rh7s",
        "outputId": "36cc20ee-7bcd-448d-beac-7941931b624e"
      },
      "execution_count": null,
      "outputs": [
        {
          "output_type": "execute_result",
          "data": {
            "text/plain": [
              "<tf.Tensor: shape=(1, 30), dtype=int64, numpy=\n",
              "array([[4737,  365,  134,  280,   70,  648,    0,    0,    0,    0,    0,\n",
              "           0,    0,    0,    0,    0,    0,    0,    0,    0,    0,    0,\n",
              "           0,    0,    0,    0,    0,    0,    0,    0]])>"
            ]
          },
          "metadata": {},
          "execution_count": 14
        }
      ]
    },
    {
      "cell_type": "code",
      "source": [
        "import random\n",
        "random_sentence = random.choice(X_train)\n",
        "random_sentence, text_vectorizer([random_sentence])"
      ],
      "metadata": {
        "colab": {
          "base_uri": "https://localhost:8080/"
        },
        "id": "1Zar_wiSSG-T",
        "outputId": "e77fd087-3480-4fe9-c490-122d95682ee6"
      },
      "execution_count": null,
      "outputs": [
        {
          "output_type": "execute_result",
          "data": {
            "text/plain": [
              "('BROWN SUGAR, CORN SYRUP, CONFECTIONERY COATING (SUGAR, PALM KERNEL OIL, NONFAT DRY MILK, MILK, SOY LECITHIN [EMULSIFIER], SALT), SUGAR, POPCORN, BUTTER (CREAM, SALT), PUMPKIN SPICE SEASONING (SPICES [INCLUDING CINNAMON], SEA SALT, LESS THAN 2%: SILICON DIOXIDE [ANTICAKING]), NATURAL FLAVORS, SALT, SOY LECITHIN, BAKING SODA.',\n",
              " <tf.Tensor: shape=(1, 30), dtype=int64, numpy=\n",
              " array([[  95,    4,    9,   23, 1086,  428,    4,   42,  167,    3,   89,\n",
              "          135,   10,   10,   18,   32,  173,    2,    4,  707,   38,   45,\n",
              "            2,  419,  136,  191,   60,  397,  181,   68]])>)"
            ]
          },
          "metadata": {},
          "execution_count": 15
        }
      ]
    },
    {
      "cell_type": "code",
      "source": [
        "words_in_vocab = text_vectorizer.get_vocabulary()\n",
        "words_in_vocab[:5], words_in_vocab[-5:],len(words_in_vocab)"
      ],
      "metadata": {
        "colab": {
          "base_uri": "https://localhost:8080/"
        },
        "id": "qdP3UW11SUM1",
        "outputId": "24041d97-46e6-4abd-b8e9-b8dd3bfd678a"
      },
      "execution_count": null,
      "outputs": [
        {
          "output_type": "execute_result",
          "data": {
            "text/plain": [
              "(['', '[UNK]', 'salt', 'oil', 'sugar'],\n",
              " ['005', '0023101', '001', '0003', '00'],\n",
              " 5262)"
            ]
          },
          "metadata": {},
          "execution_count": 16
        }
      ]
    },
    {
      "cell_type": "code",
      "source": [
        "from tensorflow.keras import layers\n",
        "embedding = layers.Embedding(input_dim = max_vocab_length,\n",
        "                             output_dim = 128,\n",
        "                             input_length = max_length)\n",
        "embedding\n"
      ],
      "metadata": {
        "colab": {
          "base_uri": "https://localhost:8080/"
        },
        "id": "caV6RMUOS0qX",
        "outputId": "d06634d3-39cd-4ccb-915e-8aacfb2114b6"
      },
      "execution_count": null,
      "outputs": [
        {
          "output_type": "execute_result",
          "data": {
            "text/plain": [
              "<keras.src.layers.core.embedding.Embedding at 0x7a02b8496650>"
            ]
          },
          "metadata": {},
          "execution_count": 17
        }
      ]
    },
    {
      "cell_type": "code",
      "source": [
        "random_sentence = random.choice(X_train)\n",
        "random_sentence, embedding(text_vectorizer([random_sentence]))"
      ],
      "metadata": {
        "colab": {
          "base_uri": "https://localhost:8080/"
        },
        "id": "1pX6NKxlWbEQ",
        "outputId": "c9e337bd-47cb-4c0f-cdaa-6dcab183a198"
      },
      "execution_count": null,
      "outputs": [
        {
          "output_type": "execute_result",
          "data": {
            "text/plain": [
              "('hazelnuts, apple cider vinegar, cumin seed, corn tortillas, prunes, white onion, large garlic cloves, cinnamon sticks, allspice, red delicious apples, coriander seeds, anise, ancho chile pepper, clove, guajillo chiles, vegetable oil, low salt chicken broth, plantains',\n",
              " <tf.Tensor: shape=(1, 30, 128), dtype=float32, numpy=\n",
              " array([[[ 0.0081458 ,  0.04141349, -0.02816576, ..., -0.02038816,\n",
              "          -0.01357982,  0.0092585 ],\n",
              "         [ 0.02194783, -0.04638631, -0.02822895, ..., -0.01978996,\n",
              "           0.04849062,  0.00713649],\n",
              "         [ 0.02450395,  0.04708446, -0.00308438, ...,  0.04259911,\n",
              "          -0.01907283, -0.00029136],\n",
              "         ...,\n",
              "         [-0.012401  , -0.00848991,  0.02229834, ..., -0.04725286,\n",
              "          -0.04216645, -0.00562242],\n",
              "         [ 0.0470129 ,  0.01401032, -0.02585485, ...,  0.00711472,\n",
              "          -0.02718621, -0.03461621],\n",
              "         [-0.03821906, -0.01468203, -0.04088218, ...,  0.01033336,\n",
              "           0.00884318,  0.01499656]]], dtype=float32)>)"
            ]
          },
          "metadata": {},
          "execution_count": 22
        }
      ]
    },
    {
      "cell_type": "code",
      "source": [
        "sample_embed = embedding(text_vectorizer([random_sentence]))\n",
        "sample_embed[0][0],sample_embed.shape"
      ],
      "metadata": {
        "colab": {
          "base_uri": "https://localhost:8080/"
        },
        "id": "A7BpRzb5WiuY",
        "outputId": "b4735720-3757-4a85-d1a2-c5a2d3c20a28"
      },
      "execution_count": null,
      "outputs": [
        {
          "output_type": "execute_result",
          "data": {
            "text/plain": [
              "(<tf.Tensor: shape=(128,), dtype=float32, numpy=\n",
              " array([ 0.0081458 ,  0.04141349, -0.02816576,  0.04238472, -0.02582388,\n",
              "        -0.04776603,  0.01736149, -0.03262211, -0.01086851,  0.01971108,\n",
              "         0.0371061 , -0.00114007,  0.00438082,  0.03913197, -0.03257958,\n",
              "         0.04382845,  0.04867119, -0.03167506, -0.03905956,  0.00611079,\n",
              "         0.03826118, -0.02282456, -0.02784931,  0.034878  ,  0.03954715,\n",
              "        -0.04958617,  0.00107025,  0.02127961,  0.0122952 , -0.0306113 ,\n",
              "         0.01120488, -0.03037478, -0.04123633,  0.01470304, -0.0253655 ,\n",
              "         0.01392889, -0.0223619 ,  0.03318218, -0.00978709, -0.00174759,\n",
              "        -0.0228273 ,  0.00260073, -0.02062547,  0.00036753, -0.03031733,\n",
              "        -0.04993186,  0.0057408 ,  0.02214623,  0.04348442, -0.01226466,\n",
              "         0.04509529, -0.02482156, -0.02024496, -0.03046228,  0.03461095,\n",
              "         0.04300909,  0.01439932, -0.04179477, -0.00092662, -0.04719335,\n",
              "         0.0303087 , -0.03630799,  0.00270764,  0.00593805, -0.01207585,\n",
              "        -0.03614836, -0.03839866,  0.0312536 ,  0.00900682,  0.00774555,\n",
              "         0.01434641, -0.01502947, -0.00779682, -0.00248623,  0.0358591 ,\n",
              "         0.00905094, -0.04436054,  0.00641465, -0.00425949, -0.01001853,\n",
              "         0.00505153,  0.03279885,  0.02856697,  0.01667723,  0.0168984 ,\n",
              "         0.04472884, -0.03691527, -0.00039871,  0.03238629, -0.00642226,\n",
              "         0.00738887, -0.03088291, -0.02773184,  0.0279741 ,  0.02500037,\n",
              "        -0.02026725,  0.02753297,  0.02261483, -0.02653188, -0.01236612,\n",
              "        -0.04250537,  0.03296703, -0.04887364, -0.04826334, -0.04361658,\n",
              "        -0.04751932,  0.03549865,  0.04690904, -0.02823013,  0.04675014,\n",
              "        -0.03165437,  0.01135734,  0.04625461, -0.02710928, -0.04553265,\n",
              "        -0.01098509, -0.00072123,  0.01798565, -0.0497524 ,  0.00976336,\n",
              "        -0.01854179, -0.02506163, -0.02127436,  0.02886763,  0.03122881,\n",
              "        -0.02038816, -0.01357982,  0.0092585 ], dtype=float32)>,\n",
              " TensorShape([1, 30, 128]))"
            ]
          },
          "metadata": {},
          "execution_count": 23
        }
      ]
    },
    {
      "cell_type": "code",
      "source": [
        "from tensorflow.keras import layers\n",
        "inputs = layers.Input(shape=(1,), dtype=tf.string)\n",
        "print(inputs.shape)\n",
        "x = text_vectorizer(inputs)\n",
        "print(x.shape)\n",
        "x = embedding(x)\n",
        "print(x)\n",
        "# x = layers.BatchNormalization()(x)\n",
        "x = layers.GlobalAveragePooling1D()(x)\n",
        "combined_dropout = layers.Dropout(0.5)(x)\n",
        "combined_dense = layers.Dense(128, activation=\"relu\")(combined_dropout)\n",
        "# x = layers.BatchNormalization()(combined_dense)\n",
        "final_dropout = layers.Dropout(0.5)(x)\n",
        "outputs = layers.Dense(3, activation=\"softmax\")(final_dropout)\n",
        "Model_1 = tf.keras.Model(inputs, outputs)\n"
      ],
      "metadata": {
        "colab": {
          "base_uri": "https://localhost:8080/"
        },
        "id": "PSFAh8vQS6T5",
        "outputId": "44ecb446-bb51-41f0-cb3c-fe438bc10ae5"
      },
      "execution_count": null,
      "outputs": [
        {
          "output_type": "stream",
          "name": "stdout",
          "text": [
            "(None, 1)\n",
            "(None, 30)\n",
            "KerasTensor(type_spec=TensorSpec(shape=(None, 30, 128), dtype=tf.float32, name=None), name='embedding/embedding_lookup/Identity:0', description=\"created by layer 'embedding'\")\n"
          ]
        }
      ]
    },
    {
      "cell_type": "code",
      "source": [
        "# Replace all occurrences of a specific value in the DataFrame\n",
        "\n"
      ],
      "metadata": {
        "id": "OBq5WuYhZkdU"
      },
      "execution_count": null,
      "outputs": []
    },
    {
      "cell_type": "code",
      "source": [
        "y_train[:3]"
      ],
      "metadata": {
        "colab": {
          "base_uri": "https://localhost:8080/"
        },
        "id": "qr6CbaRxa3Fp",
        "outputId": "076cd0f2-e990-4029-94ef-fe8fa197a4f2"
      },
      "execution_count": null,
      "outputs": [
        {
          "output_type": "execute_result",
          "data": {
            "text/plain": [
              "array([[1, 0, 0],\n",
              "       [0, 1, 0],\n",
              "       [1, 0, 0]], dtype=uint8)"
            ]
          },
          "metadata": {},
          "execution_count": 26
        }
      ]
    },
    {
      "cell_type": "code",
      "source": [
        "import numpy as np\n",
        "Model_1.compile(loss = \"categorical_crossentropy\",\n",
        "                optimizer = tf.keras.optimizers.Adam(),\n",
        "                metrics = [\"accuracy\"])\n",
        "# train_lables = tf.reshape(train_labels, (-1, 15, 1))\n",
        "history = Model_1.fit(X_train, y_train, validation_data = (X_test,y_test),epochs = 10)\n",
        "# train_sentences.shape,train_labels.shape\n",
        "# val_sentences.shape,val_labels.shape"
      ],
      "metadata": {
        "colab": {
          "base_uri": "https://localhost:8080/"
        },
        "id": "wG7ejjr_TFGD",
        "outputId": "92b8706c-0ab8-4f00-a04c-5442feac8722"
      },
      "execution_count": null,
      "outputs": [
        {
          "output_type": "stream",
          "name": "stdout",
          "text": [
            "Epoch 1/10\n",
            "249/249 [==============================] - 6s 19ms/step - loss: 0.7540 - accuracy: 0.7067 - val_loss: 0.5969 - val_accuracy: 0.7696\n",
            "Epoch 2/10\n",
            "249/249 [==============================] - 8s 34ms/step - loss: 0.5292 - accuracy: 0.7968 - val_loss: 0.4834 - val_accuracy: 0.8097\n",
            "Epoch 3/10\n",
            "249/249 [==============================] - 7s 28ms/step - loss: 0.4344 - accuracy: 0.8337 - val_loss: 0.4225 - val_accuracy: 0.8379\n",
            "Epoch 4/10\n",
            "249/249 [==============================] - 4s 17ms/step - loss: 0.3710 - accuracy: 0.8613 - val_loss: 0.3876 - val_accuracy: 0.8529\n",
            "Epoch 5/10\n",
            "249/249 [==============================] - 5s 21ms/step - loss: 0.3287 - accuracy: 0.8813 - val_loss: 0.3651 - val_accuracy: 0.8665\n",
            "Epoch 6/10\n",
            "249/249 [==============================] - 5s 20ms/step - loss: 0.2975 - accuracy: 0.8968 - val_loss: 0.3510 - val_accuracy: 0.8740\n",
            "Epoch 7/10\n",
            "249/249 [==============================] - 4s 17ms/step - loss: 0.2712 - accuracy: 0.9060 - val_loss: 0.3439 - val_accuracy: 0.8770\n",
            "Epoch 8/10\n",
            "249/249 [==============================] - 4s 18ms/step - loss: 0.2524 - accuracy: 0.9167 - val_loss: 0.3369 - val_accuracy: 0.8810\n",
            "Epoch 9/10\n",
            "249/249 [==============================] - 7s 29ms/step - loss: 0.2342 - accuracy: 0.9251 - val_loss: 0.3363 - val_accuracy: 0.8840\n",
            "Epoch 10/10\n",
            "249/249 [==============================] - 4s 18ms/step - loss: 0.2214 - accuracy: 0.9281 - val_loss: 0.3321 - val_accuracy: 0.8876\n"
          ]
        }
      ]
    },
    {
      "cell_type": "code",
      "source": [
        "!pip install pytesseract"
      ],
      "metadata": {
        "colab": {
          "base_uri": "https://localhost:8080/"
        },
        "id": "qJ1iAAXrCZd5",
        "outputId": "da833b03-9410-430b-b465-250bb7b7c703"
      },
      "execution_count": null,
      "outputs": [
        {
          "output_type": "stream",
          "name": "stdout",
          "text": [
            "Collecting pytesseract\n",
            "  Downloading pytesseract-0.3.10-py3-none-any.whl (14 kB)\n",
            "Requirement already satisfied: packaging>=21.3 in /usr/local/lib/python3.10/dist-packages (from pytesseract) (23.2)\n",
            "Requirement already satisfied: Pillow>=8.0.0 in /usr/local/lib/python3.10/dist-packages (from pytesseract) (9.4.0)\n",
            "Installing collected packages: pytesseract\n",
            "Successfully installed pytesseract-0.3.10\n"
          ]
        }
      ]
    },
    {
      "cell_type": "code",
      "source": [
        "!apt-get install tesseract-ocr"
      ],
      "metadata": {
        "colab": {
          "base_uri": "https://localhost:8080/"
        },
        "id": "L68h9QfpCgrX",
        "outputId": "c4d3fda2-77d3-478b-a221-da7036787ad9"
      },
      "execution_count": null,
      "outputs": [
        {
          "output_type": "stream",
          "name": "stdout",
          "text": [
            "Reading package lists... Done\n",
            "Building dependency tree... Done\n",
            "Reading state information... Done\n",
            "The following additional packages will be installed:\n",
            "  tesseract-ocr-eng tesseract-ocr-osd\n",
            "The following NEW packages will be installed:\n",
            "  tesseract-ocr tesseract-ocr-eng tesseract-ocr-osd\n",
            "0 upgraded, 3 newly installed, 0 to remove and 16 not upgraded.\n",
            "Need to get 4,816 kB of archives.\n",
            "After this operation, 15.6 MB of additional disk space will be used.\n",
            "Get:1 http://archive.ubuntu.com/ubuntu jammy/universe amd64 tesseract-ocr-eng all 1:4.00~git30-7274cfa-1.1 [1,591 kB]\n",
            "Get:2 http://archive.ubuntu.com/ubuntu jammy/universe amd64 tesseract-ocr-osd all 1:4.00~git30-7274cfa-1.1 [2,990 kB]\n",
            "Get:3 http://archive.ubuntu.com/ubuntu jammy/universe amd64 tesseract-ocr amd64 4.1.1-2.1build1 [236 kB]\n",
            "Fetched 4,816 kB in 7s (692 kB/s)\n",
            "Selecting previously unselected package tesseract-ocr-eng.\n",
            "(Reading database ... 120903 files and directories currently installed.)\n",
            "Preparing to unpack .../tesseract-ocr-eng_1%3a4.00~git30-7274cfa-1.1_all.deb ...\n",
            "Unpacking tesseract-ocr-eng (1:4.00~git30-7274cfa-1.1) ...\n",
            "Selecting previously unselected package tesseract-ocr-osd.\n",
            "Preparing to unpack .../tesseract-ocr-osd_1%3a4.00~git30-7274cfa-1.1_all.deb ...\n",
            "Unpacking tesseract-ocr-osd (1:4.00~git30-7274cfa-1.1) ...\n",
            "Selecting previously unselected package tesseract-ocr.\n",
            "Preparing to unpack .../tesseract-ocr_4.1.1-2.1build1_amd64.deb ...\n",
            "Unpacking tesseract-ocr (4.1.1-2.1build1) ...\n",
            "Setting up tesseract-ocr-eng (1:4.00~git30-7274cfa-1.1) ...\n",
            "Setting up tesseract-ocr-osd (1:4.00~git30-7274cfa-1.1) ...\n",
            "Setting up tesseract-ocr (4.1.1-2.1build1) ...\n",
            "Processing triggers for man-db (2.10.2-1) ...\n"
          ]
        }
      ]
    },
    {
      "cell_type": "code",
      "source": [
        "!pip install Pillow"
      ],
      "metadata": {
        "colab": {
          "base_uri": "https://localhost:8080/"
        },
        "id": "KHSeDIbxCjwP",
        "outputId": "e4620dfd-6e8f-4778-ef33-b3a32518cd46"
      },
      "execution_count": null,
      "outputs": [
        {
          "output_type": "stream",
          "name": "stdout",
          "text": [
            "Requirement already satisfied: Pillow in /usr/local/lib/python3.10/dist-packages (9.4.0)\n"
          ]
        }
      ]
    },
    {
      "cell_type": "code",
      "source": [
        "import pytesseract\n",
        "from PIL import Image\n",
        "image = Image.open('/content/Ingredients_1.jpg')  # Replace 'your_image.png' with the actual image file path\n",
        "\n",
        "# Perform OCR on the image\n",
        "text = pytesseract.image_to_string(image, lang='eng')  # 'eng' specifies the English language\n",
        "\n",
        "# Print or process the extracted text\n",
        "print(text)\n",
        "preds = Model_1.predict([text])"
      ],
      "metadata": {
        "colab": {
          "base_uri": "https://localhost:8080/"
        },
        "id": "VPiQR5mZCqUS",
        "outputId": "30e9623b-e7db-4ba5-ff89-0693bf4f473e"
      },
      "execution_count": null,
      "outputs": [
        {
          "output_type": "stream",
          "name": "stdout",
          "text": [
            "Sparkling Low Calorie Soft Drink with Vegetane\n",
            "Extracts with Sweeteners\n",
            "\n",
            "‘ngredients: Carbonated Water, Colour (Caramel E1500,\n",
            "Sweeteners (Aspartame, Acesulfame K), Natural Fvourings\n",
            "‘netting Caffeine, Phosphoric Acid, Citric Acid.\n",
            "Contains a Source of Phenylalanine. =\n",
            "\f\n",
            "1/1 [==============================] - 0s 229ms/step\n"
          ]
        }
      ]
    },
    {
      "cell_type": "code",
      "source": [
        "preds"
      ],
      "metadata": {
        "colab": {
          "base_uri": "https://localhost:8080/"
        },
        "id": "uXX7u4OeDW09",
        "outputId": "8face510-c0f4-4e31-85f9-5d5b1fc002de"
      },
      "execution_count": null,
      "outputs": [
        {
          "output_type": "execute_result",
          "data": {
            "text/plain": [
              "array([[9.9978203e-01, 7.4371776e-05, 1.4367301e-04]], dtype=float32)"
            ]
          },
          "metadata": {},
          "execution_count": 45
        }
      ]
    },
    {
      "cell_type": "code",
      "source": [
        "results = Model_1.evaluate(X_test,y_test)"
      ],
      "metadata": {
        "colab": {
          "base_uri": "https://localhost:8080/"
        },
        "id": "KcTJeXZtoriS",
        "outputId": "c2822f59-e212-460b-a779-6dcb9e8e0e3e"
      },
      "execution_count": null,
      "outputs": [
        {
          "output_type": "stream",
          "name": "stdout",
          "text": [
            "63/63 [==============================] - 0s 4ms/step - loss: 0.3321 - accuracy: 0.8876\n"
          ]
        }
      ]
    },
    {
      "cell_type": "code",
      "source": [
        "Model1_preds = Model_1.predict([X_test])\n",
        "Model1_preds = tf.squeeze(tf.round(Model1_preds))\n",
        "Model1_preds[:10]"
      ],
      "metadata": {
        "colab": {
          "base_uri": "https://localhost:8080/"
        },
        "id": "rqRmcVt7pCMq",
        "outputId": "fc9f3c9a-01c9-4fbd-c8ae-b593a95725e1"
      },
      "execution_count": null,
      "outputs": [
        {
          "output_type": "stream",
          "name": "stdout",
          "text": [
            "63/63 [==============================] - 0s 2ms/step\n"
          ]
        },
        {
          "output_type": "execute_result",
          "data": {
            "text/plain": [
              "<tf.Tensor: shape=(10, 3), dtype=float32, numpy=\n",
              "array([[0., 1., 0.],\n",
              "       [1., 0., 0.],\n",
              "       [0., 0., 1.],\n",
              "       [0., 0., 1.],\n",
              "       [1., 0., 0.],\n",
              "       [1., 0., 0.],\n",
              "       [1., 0., 0.],\n",
              "       [1., 0., 0.],\n",
              "       [1., 0., 0.],\n",
              "       [1., 0., 0.]], dtype=float32)>"
            ]
          },
          "metadata": {},
          "execution_count": 31
        }
      ]
    },
    {
      "cell_type": "code",
      "source": [
        "from sklearn.metrics import accuracy_score, precision_recall_fscore_support\n",
        "def calc_results(y_true,y_preds):\n",
        "  model_accuracy = accuracy_score(y_true, y_preds) * 100\n",
        "  # Calculate model precision, recall and f1 score using \"weighted\" average\n",
        "  model_precision, model_recall, model_f1, _ = precision_recall_fscore_support(y_true, y_preds, average=\"weighted\")\n",
        "  model_results = {\"accuracy\": model_accuracy,\n",
        "                  \"precision\": model_precision,\n",
        "                  \"recall\": model_recall,\n",
        "                  \"f1\": model_f1}\n",
        "  return model_results\n"
      ],
      "metadata": {
        "id": "jEHt_qOBpZcy"
      },
      "execution_count": null,
      "outputs": []
    },
    {
      "cell_type": "code",
      "source": [
        "Model_1_results = calc_results(y_true = y_test, y_preds = Model1_preds)\n",
        "Model_1_results"
      ],
      "metadata": {
        "colab": {
          "base_uri": "https://localhost:8080/"
        },
        "id": "9jR1EVg2pG_0",
        "outputId": "6539f478-f0ed-407d-dca3-66767a8f263a"
      },
      "execution_count": null,
      "outputs": [
        {
          "output_type": "execute_result",
          "data": {
            "text/plain": [
              "{'accuracy': 87.95180722891565,\n",
              " 'precision': 0.8916320838143001,\n",
              " 'recall': 0.8795180722891566,\n",
              " 'f1': 0.8836525829371644}"
            ]
          },
          "metadata": {},
          "execution_count": 33
        }
      ]
    },
    {
      "cell_type": "code",
      "source": [
        "# from sklearn.metrics import f1_score, recall_score, precision_score\n",
        "\n",
        "# micro_recall = recall_score(y_test, Model1_preds, average='micro')\n",
        "# macro_recall = recall_score(y_test, Model1_preds, average='macro')\n",
        "# weighted_recall = recall_score(y_test, Model1_preds, average='weighted')\n",
        "\n",
        "# # Calculate Precision using micro, macro, and weighted averages\n",
        "# micro_precision = precision_score(y_test, Model1_preds, average='micro')\n",
        "# macro_precision = precision_score(y_test, Model1_preds, average='macro')\n",
        "# weighted_precision = precision_score(y_test, Model1_preds, average='weighted')\n",
        "\n",
        "# # Calculate F1 Score using micro, macro, and weighted averages\n",
        "# micro_f1 = f1_score(y_test, Model1_preds, average='micro')\n",
        "# macro_f1 = f1_score(y_test, Model1_preds, average='macro')\n",
        "# weighted_f1 = f1_score(y_test, Model1_preds, average='weighted')\n",
        "\n",
        "# # print(\"Micro Recall:\", micro_recall)\n",
        "# # print(\"Macro Recall:\", macro_recall)\n",
        "# print(\"Weighted Recall:\", weighted_recall)\n",
        "\n",
        "# # print(\"Micro Precision:\", micro_precision)\n",
        "# # print(\"Macro Precision:\", macro_precision)\n",
        "# print(\"Weighted Precision:\", weighted_precision)\n",
        "\n",
        "# # print(\"Micro F1 Score:\", micro_f1)\n",
        "# # print(\"Macro F1 Score:\", macro_f1)\n",
        "# print(\"Weighted F1 Score:\", weighted_f1)"
      ],
      "metadata": {
        "id": "gUS2a-yppeIJ"
      },
      "execution_count": null,
      "outputs": []
    },
    {
      "cell_type": "code",
      "source": [
        "from sklearn.metrics import confusion_matrix\n",
        "import matplotlib.pyplot as plt\n",
        "import seaborn as sns\n",
        "\n",
        "num_labels = y_test.shape[1]\n",
        "\n",
        "# Initialize the confusion matrix with zeros\n",
        "conf_matrix = np.zeros((num_labels, num_labels), dtype=int)\n",
        "\n",
        "# Calculate the confusion matrix\n",
        "for i in range(num_labels):\n",
        "    for j in range(num_labels):\n",
        "        conf_matrix[i, j] = np.sum((y_test[:, i] == 1) & (Model1_preds[:, j] == 1))\n",
        "\n",
        "# Print the confusion matrix\n",
        "print(\"Confusion Matrix:\")\n",
        "print(conf_matrix)\n"
      ],
      "metadata": {
        "colab": {
          "base_uri": "https://localhost:8080/"
        },
        "id": "iRecmj-srlGJ",
        "outputId": "ce9ed078-8cdc-4e93-caa0-bbdde4ee8543"
      },
      "execution_count": null,
      "outputs": [
        {
          "output_type": "stream",
          "name": "stdout",
          "text": [
            "Confusion Matrix:\n",
            "[[1291   25   35]\n",
            " [  53   85    8]\n",
            " [  77    7  376]]\n"
          ]
        }
      ]
    },
    {
      "cell_type": "code",
      "source": [
        "import tensorflow as tf\n",
        "import numpy as np\n",
        "import matplotlib.pyplot as plt\n",
        "from sklearn.metrics import confusion_matrix\n",
        "import matplotlib.pyplot as plt\n",
        "import numpy as np\n",
        "import itertools\n",
        "\n",
        "def make_multilabel_confusion_matrix(y_true, y_pred, classes=None, figsize=(20, 20), text_size=15):\n",
        "    \"\"\"\n",
        "    Makes a confusion matrix for multilabel classification comparing predictions and ground truth labels.\n",
        "\n",
        "    Args:\n",
        "        y_true: Array of true labels (must be the same shape as y_pred).\n",
        "        y_pred: Array of predicted labels (must be the same shape as y_true).\n",
        "        classes: Array of class labels (e.g., string form). If None, integer labels are used.\n",
        "        figsize: Size of the output figure (default=(10, 10)).\n",
        "        text_size: Size of the output figure text (default=15).\n",
        "\n",
        "    Returns:\n",
        "        A labeled confusion matrix plot comparing y_true and y_pred.\n",
        "\n",
        "    Example usage:\n",
        "        make_multilabel_confusion_matrix(y_true=test_labels,  # Ground truth test labels\n",
        "                                        y_pred=y_preds,  # Predicted labels\n",
        "                                        classes=class_names,  # Array of class label names\n",
        "                                        figsize=(15, 15),\n",
        "                                        text_size=10)\n",
        "    \"\"\"\n",
        "    n_classes = len(classes) if classes else y_true.shape[1]\n",
        "\n",
        "    # Create the confusion matrices for each label\n",
        "    confusion_matrices = []\n",
        "    for i in range(n_classes):\n",
        "        cm = confusion_matrix(y_true[:, i], y_pred[:, i])\n",
        "        confusion_matrices.append(cm)\n",
        "\n",
        "    # Plot the figure and make it pretty\n",
        "    fig, axes = plt.subplots(nrows=1, ncols=n_classes, figsize=figsize)\n",
        "    fig.subplots_adjust(wspace=0.5)\n",
        "\n",
        "    for i, ax in enumerate(axes):\n",
        "        cax = ax.matshow(confusion_matrices[i], cmap=plt.cm.Blues)\n",
        "        fig.colorbar(cax, ax=ax)\n",
        "\n",
        "        ax.set(title=f\"Conf.for Label {i}\",\n",
        "               xlabel=\"Predicted label\",\n",
        "               ylabel=\"True label\",\n",
        "               xticks=np.arange(2),  # Assuming binary classification for each label\n",
        "               yticks=np.arange(2),\n",
        "               xticklabels=[\"0\", \"1\"],  # Replace with class labels if necessary\n",
        "               yticklabels=[\"0\", \"1\"])\n",
        "\n",
        "        ax.xaxis.set_label_position(\"bottom\")\n",
        "        ax.xaxis.tick_bottom()\n",
        "\n",
        "        threshold = (confusion_matrices[i].max() + confusion_matrices[i].min()) / 2.\n",
        "\n",
        "        for j, k in itertools.product(range(confusion_matrices[i].shape[0]), range(confusion_matrices[i].shape[1])):\n",
        "            ax.text(k, j, f\"{confusion_matrices[i][j, k]}\",\n",
        "                    horizontalalignment=\"center\",\n",
        "                    color=\"white\" if confusion_matrices[i][j, k] > threshold else \"black\",\n",
        "                    size=text_size)\n",
        "\n",
        "    plt.show()\n",
        "\n",
        "# Example usage:\n",
        "# make_multilabel_confusion_matrix(y_true, y_pred, classes=[\"Label A\", \"Label B\", \"Label C\"])\n"
      ],
      "metadata": {
        "id": "1EgGDEXKyU4B"
      },
      "execution_count": null,
      "outputs": []
    },
    {
      "cell_type": "code",
      "source": [
        "make_multilabel_confusion_matrix(y_test,Model1_preds,[\"Veg\",\"Egg\",\"Non-veg\"])"
      ],
      "metadata": {
        "colab": {
          "base_uri": "https://localhost:8080/",
          "height": 960
        },
        "id": "E-gs7ymzzjto",
        "outputId": "9bb3e787-3c92-44db-9c85-280678567e66"
      },
      "execution_count": null,
      "outputs": [
        {
          "output_type": "display_data",
          "data": {
            "text/plain": [
              "<Figure size 2000x2000 with 6 Axes>"
            ],
            "image/png": "[encoded data removed]"
          },
          "metadata": {}
        }
      ]
    },
    {
      "cell_type": "code",
      "source": [
        "import matplotlib.pyplot as plt\n",
        "\n",
        "# Assuming you have already trained your model with the `fit` method\n",
        "# history = model.fit(x_train, y_train, validation_data=(x_val, y_val), epochs=epochs)\n",
        "\n",
        "# Extract training and validation accuracies\n",
        "train_accuracies = history.history['accuracy']\n",
        "val_accuracies = history.history['val_accuracy']\n",
        "\n",
        "# Extract the number of epochs\n",
        "epochs = range(1, len(train_accuracies) + 1)\n",
        "\n",
        "# Plot training and validation accuracies\n",
        "plt.figure(figsize=(10, 6))\n",
        "plt.plot(epochs, train_accuracies, label='Training Accuracy', marker='o')\n",
        "plt.plot(epochs, val_accuracies, label='Validation Accuracy', marker='o')\n",
        "\n",
        "plt.title('Training and Validation Accuracies')\n",
        "plt.xlabel('Epochs')\n",
        "plt.ylabel('Accuracy')\n",
        "plt.legend()\n",
        "plt.grid(True)\n",
        "plt.tight_layout()\n",
        "\n",
        "plt.show()\n"
      ],
      "metadata": {
        "colab": {
          "base_uri": "https://localhost:8080/",
          "height": 607
        },
        "id": "9CWRxSRRz2Ni",
        "outputId": "fc96f52d-f372-4aae-b6d1-1781c8a2a147"
      },
      "execution_count": null,
      "outputs": [
        {
          "output_type": "display_data",
          "data": {
            "text/plain": [
              "<Figure size 1000x600 with 1 Axes>"
            ],
            "image/png": "[encoded data removed]"
          },
          "metadata": {}
        }
      ]
    },
    {
      "cell_type": "code",
      "source": [
        "import matplotlib.pyplot as plt\n",
        "\n",
        "# Assuming you have already trained your model with the `fit` method\n",
        "# history = model.fit(x_train, y_train, validation_data=(x_val, y_val), epochs=epochs)\n",
        "\n",
        "# Extract training and validation accuracies\n",
        "train_loss = history.history['loss']\n",
        "val_loss = history.history['val_loss']\n",
        "\n",
        "# Extract the number of epochs\n",
        "epochs = range(1, len(train_loss) + 1)\n",
        "\n",
        "# Plot training and validation accuracies\n",
        "plt.figure(figsize=(10, 6))\n",
        "plt.plot(epochs, train_loss, label='Training Loss', marker='o')\n",
        "plt.plot(epochs, val_loss, label='Validation Loss', marker='o')\n",
        "\n",
        "plt.title('Training and Validation Loss')\n",
        "plt.xlabel('Epochs')\n",
        "plt.ylabel('Loss')\n",
        "plt.legend()\n",
        "plt.grid(True)\n",
        "plt.tight_layout()\n",
        "\n",
        "plt.show()"
      ],
      "metadata": {
        "colab": {
          "base_uri": "https://localhost:8080/",
          "height": 607
        },
        "id": "ytWFBIEr3G9J",
        "outputId": "e52bf00a-6fc2-4696-c3fa-2967daefe872"
      },
      "execution_count": null,
      "outputs": [
        {
          "output_type": "display_data",
          "data": {
            "text/plain": [
              "<Figure size 1000x600 with 1 Axes>"
            ],
            "image/png": "[encoded data removed]"
          },
          "metadata": {}
        }
      ]
    },
    {
      "cell_type": "code",
      "source": [],
      "metadata": {
        "id": "S-CGCOPKB4Tl"
      },
      "execution_count": null,
      "outputs": []
    }
  ]
}